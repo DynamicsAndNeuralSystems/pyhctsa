{
 "cells": [
  {
   "cell_type": "code",
   "execution_count": 1,
   "id": "902b4d37",
   "metadata": {},
   "outputs": [],
   "source": [
    "import numpy as np\n",
    "from pyhctsa.Operations.Medical import RawHRVMeas"
   ]
  },
  {
   "cell_type": "code",
   "execution_count": 3,
   "id": "fcd7d2cd",
   "metadata": {},
   "outputs": [
    {
     "data": {
      "text/plain": [
       "{'tri10': np.float64(5.2631578947368425),\n",
       " 'tri20': np.float64(8.333333333333334),\n",
       " 'trisqrt': np.float64(5.2631578947368425),\n",
       " 'SD1': np.float64(1168.2104980881202),\n",
       " 'SD2': np.float64(893.3361803153301)}"
      ]
     },
     "execution_count": 3,
     "metadata": {},
     "output_type": "execute_result"
    }
   ],
   "source": [
    "RawHRVMeas(np.random.randn(100))"
   ]
  },
  {
   "cell_type": "code",
   "execution_count": null,
   "id": "7859123b",
   "metadata": {},
   "outputs": [],
   "source": []
  }
 ],
 "metadata": {
  "kernelspec": {
   "display_name": "pyhctsa2",
   "language": "python",
   "name": "python3"
  },
  "language_info": {
   "codemirror_mode": {
    "name": "ipython",
    "version": 3
   },
   "file_extension": ".py",
   "mimetype": "text/x-python",
   "name": "python",
   "nbconvert_exporter": "python",
   "pygments_lexer": "ipython3",
   "version": "3.12.11"
  }
 },
 "nbformat": 4,
 "nbformat_minor": 5
}
